{
 "cells": [
  {
   "cell_type": "markdown",
   "metadata": {},
   "source": [
    "# <center> Change-Point Estimation on MNIST-Seq with XSCPE </center>\n",
    "The XSCPE algorithm provides an approach to end-to-end learning that allows one to jointly learn a feature\n",
    "representation from unlabeled sequences (with or without labeled sequences) and predict change points in unlabeled sequences. It is domain-agnostic and can be used with any ratio of labeled to unlabeled sequences, gracefully\n",
    "adjusting to the amount of supervision.\n",
    "\n",
    "In this notebook we'll set up and train a LeNet-5 convolutional kernel network (see [Jones et al., 2019](https://arxiv.org/pdf/1903.08131.pdf) for how LeNet-5 was translated to a convolutional kernel network) on the dataset MNIST-seq using XSCPE. "
   ]
  },
  {
   "cell_type": "markdown",
   "metadata": {},
   "source": [
    "## 1 Setting up the data\n",
    "There are five main items we need to set up: the data, model, training parameters, and results and optimizer objects. First we'll set up the data. For this we need to first load the default parameters and the MNIST data loader code:"
   ]
  },
  {
   "cell_type": "code",
   "execution_count": 1,
   "metadata": {},
   "outputs": [],
   "source": [
    "import sys\n",
    "sys.path.append('..')\n",
    "\n",
    "from src import default_params as defaults\n",
    "import src.data_loaders.mnist_seq as mnist_seq"
   ]
  },
  {
   "cell_type": "markdown",
   "metadata": {},
   "source": [
    "There are several parameters we need to set:\n",
    "- data_path: The directory where the data resides or will reside. For MNIST if the data doesn't already exist there it will be automatically downloaded and saved there.\n",
    "- num_labeled: The number of labeled sequences in the training set.\n",
    "- num_train: The total (labeled+unlabeled) number of sequences in the training set. If None, it will be approximately 500.\n",
    "- seed: The random seed to use when generating the sequences of observations."
   ]
  },
  {
   "cell_type": "code",
   "execution_count": 2,
   "metadata": {},
   "outputs": [],
   "source": [
    "data_path = '../data/MNIST'\n",
    "num_labeled = 0  \n",
    "num_train = None\n",
    "seed = 3"
   ]
  },
  {
   "cell_type": "code",
   "execution_count": 3,
   "metadata": {},
   "outputs": [],
   "source": [
    "import numpy as np\n",
    "import random\n",
    "import torch\n",
    "np.random.seed(seed)\n",
    "random.seed(seed)\n",
    "torch.manual_seed(seed)\n",
    "torch.cuda.manual_seed(seed)"
   ]
  },
  {
   "cell_type": "code",
   "execution_count": 4,
   "metadata": {},
   "outputs": [
    {
     "name": "stdout",
     "output_type": "stream",
     "text": [
      "Number of labeled sequences being used: 0\n",
      "Size of training set: 498\n"
     ]
    }
   ],
   "source": [
    "# Create the data loaders\n",
    "train_loader, train_labeled_loader, train_unlabeled_loader, valid_loader, test_loader = \\\n",
    "    mnist_seq.get_dataloaders(data_path=data_path, num_labeled=num_labeled, \n",
    "                              num_train=num_train, num_workers=0, seed=seed)\n",
    "print('Size of training set:', len(train_loader.dataset))"
   ]
  },
  {
   "cell_type": "markdown",
   "metadata": {},
   "source": [
    "We have five different data loaders: \n",
    "- train_loader: Data loader that contains both the labeled and unlabeled observations in the training set\n",
    "- train_labeled_loader: Data loader that contains the labeled observations in the training set\n",
    "- train_unlabeled_loader: Data loader that contains the unlabeled observations in the training set\n",
    "- valid_loader: Data loader that contains the observations in the validation set\n",
    "- test_loader: Data loader that contains the observations in the test set\n",
    "\n",
    "Now we will create a Data object that contains the relevant data loaders and which will be used by XSCPE:"
   ]
  },
  {
   "cell_type": "code",
   "execution_count": 5,
   "metadata": {},
   "outputs": [],
   "source": [
    "from src.opt import opt_structures\n",
    "data = opt_structures.Data(train_labeled_loader, train_unlabeled_loader, valid_loader, test_loader)"
   ]
  },
  {
   "cell_type": "markdown",
   "metadata": {},
   "source": [
    "## 2 Setting up the model\n",
    "Next we'll set up the model. The model is specified in a config file. This file is loaded and parsed, and then the model is initialized. You can alternatively use a neural network and pass the initialized network to `opt_structures.Model()` below. "
   ]
  },
  {
   "cell_type": "code",
   "execution_count": 6,
   "metadata": {},
   "outputs": [],
   "source": [
    "from src.model.ckn import parse_config, net"
   ]
  },
  {
   "cell_type": "markdown",
   "metadata": {},
   "source": [
    "There are two parameters we will change from the version of the network specified in the config file:\n",
    "1. The number of filters at each layer\n",
    "2. The bandwidths of the kernels\n",
    "\n",
    "We'll use a small model, so we'll set the number of filters per layer to 32. The bandwidth of 0.7 was found by hold-out validation."
   ]
  },
  {
   "cell_type": "code",
   "execution_count": 7,
   "metadata": {},
   "outputs": [],
   "source": [
    "num_filters = 32\n",
    "bandwidth = 0.7"
   ]
  },
  {
   "cell_type": "code",
   "execution_count": 8,
   "metadata": {},
   "outputs": [
    {
     "name": "stdout",
     "output_type": "stream",
     "text": [
      "Initializing layer 0\n",
      "Initializing layer 1\n",
      "Initializing layer 2\n",
      "Initializing layer 3\n",
      "Initializing layer 4\n",
      "Initializing layer 5\n",
      "Done with initialization\n"
     ]
    }
   ],
   "source": [
    "# Load the parameters of the network\n",
    "params = parse_config.load_config('../cfg/lenet-5_ckn.cfg')\n",
    "\n",
    "# Change the number of filters per layer and the bandwidths of the kernels\n",
    "nlayers = len(params['num_filters'])\n",
    "params['num_filters'] = [num_filters] * nlayers\n",
    "params['patch_sigma'] = [bandwidth] * nlayers\n",
    "\n",
    "# Create the network\n",
    "layers = parse_config.create_layers(params)\n",
    "model = net.CKN(layers).to(defaults.device)\n",
    "\n",
    "# Initialize the network\n",
    "model.init(train_loader)\n",
    "print('Done with initialization')"
   ]
  },
  {
   "cell_type": "markdown",
   "metadata": {},
   "source": [
    "The network has now been initialized. We just need to create an object of the `Model` class for XSCPE. We'll save the model after training to the file `../output/temp_model.pickle`."
   ]
  },
  {
   "cell_type": "code",
   "execution_count": 9,
   "metadata": {},
   "outputs": [],
   "source": [
    "import os\n",
    "\n",
    "save_file = os.path.join('..', 'output', 'temp')\n",
    "model = opt_structures.Model(model, save_path=save_file + '_model.pickle')"
   ]
  },
  {
   "cell_type": "markdown",
   "metadata": {},
   "source": [
    "## 3 Setting up the parameters\n",
    "Finally, we'll set up the parameters. There are a large number of parameters that we can specifiy for XSCPE. These include the following:"
   ]
  },
  {
   "cell_type": "code",
   "execution_count": 10,
   "metadata": {},
   "outputs": [],
   "source": [
    "batch_size=50                 # Batch size to use when training\n",
    "ckn = True                    # Whether the network is a CKN \n",
    "epsilon = 10**-3              # Epsilon in the first penalty term\n",
    "eval_test_every = 1           # Number of iterations between evaluations of the performance\n",
    "lambda_cov = 2**3             # Penalty on sqrt(tr(empirical covariance)+epsilon)\n",
    "lr = 2**-3                    # Learning rate\n",
    "min_dist = 1                  # Minimum allowable distance between change points\n",
    "num_classes = 10              # Number of classes in the dataset\n",
    "num_iters = 10                # Number of iterations for which it will run\n",
    "project = True                # Whether to project the patches onto the unit sphere at each layer\n",
    "save_every = 50               # How often to save the model, parameters, and results (after how many iterations)\n",
    "save_path = save_file + '_params.pickle' # File where the parameters will be saved\n",
    "train_w_layers = [0, 2, 4, 5] # Layers of the network whose parameters should be trained"
   ]
  },
  {
   "cell_type": "markdown",
   "metadata": {},
   "source": [
    "We'll run XSCPE for 10 iterations."
   ]
  },
  {
   "cell_type": "code",
   "execution_count": 11,
   "metadata": {},
   "outputs": [],
   "source": [
    "params = opt_structures.Params(batch_size=batch_size, ckn=ckn, epsilon=epsilon, \n",
    "                               eval_test_every=eval_test_every, lambda_cov=lambda_cov, lr=lr, \n",
    "                               min_dist=min_dist, num_classes=num_classes, num_iters=num_iters, \n",
    "                               project=project,save_every=save_every, save_path=save_path)"
   ]
  },
  {
   "cell_type": "markdown",
   "metadata": {},
   "source": [
    "## 4 Setting up the results and training objects\n",
    "The last things we need to set up are the object that will store the results and the optimizer object."
   ]
  },
  {
   "cell_type": "code",
   "execution_count": 12,
   "metadata": {},
   "outputs": [],
   "source": [
    "from src.opt import train_network\n",
    "\n",
    "save_path = save_file + '_results.pickle'\n",
    "results = opt_structures.Results(save_path=save_path)\n",
    "\n",
    "optimizer = train_network.TrainSupervised(data, model, params, results)"
   ]
  },
  {
   "cell_type": "markdown",
   "metadata": {},
   "source": [
    "## 5 Training with XSCPE\n",
    "Now we're ready to train with XSCPE! While we run it for 10 iterations here, in practice one would likely want to run it for longer."
   ]
  },
  {
   "cell_type": "code",
   "execution_count": 13,
   "metadata": {},
   "outputs": [
    {
     "name": "stdout",
     "output_type": "stream",
     "text": [
      "Iteration \t Test Frobenius \t Test loss \t Train-labeled Frobenius \t Train-labeled loss \t Train-unlabeled Frobenius \t Train-unlabeled loss\n",
      "0 \t\t 0.9181 \t -23.0291 \t000inf \t 000inf \t 0.8381 \t -12.5318\n",
      "1 \t\t 0.6964 \t -30.6994 \t000inf \t 000inf \t 0.6084 \t -28.2574\n",
      "2 \t\t 0.5262 \t -37.5683 \t000inf \t 000inf \t 0.5165 \t -31.2032\n",
      "3 \t\t 0.3962 \t -35.4293 \t000inf \t 000inf \t 0.3592 \t -33.0190\n",
      "4 \t\t 0.4153 \t -44.3558 \t000inf \t 000inf \t 0.3910 \t -38.6422\n",
      "5 \t\t 0.4637 \t -40.2805 \t000inf \t 000inf \t 0.3680 \t -37.0613\n",
      "6 \t\t 0.3533 \t -49.2233 \t000inf \t 000inf \t 0.3201 \t -43.4364\n",
      "7 \t\t 0.3616 \t -48.5601 \t000inf \t 000inf \t 0.3109 \t -43.9347\n",
      "8 \t\t 0.3176 \t -54.3152 \t000inf \t 000inf \t 0.2926 \t -48.6945\n",
      "9 \t\t 0.2315 \t -53.2958 \t000inf \t 000inf \t 0.2677 \t -48.9212\n",
      "10 \t\t 0.2836 \t -61.0972 \t000inf \t 000inf \t 0.2650 \t -54.1149\n",
      "Done training. Saving final results.\n",
      "10 \t\t 0.2836 \t -61.0972 \t000inf \t 000inf \t 0.2650 \t -54.1149\n"
     ]
    }
   ],
   "source": [
    "optimizer.train()"
   ]
  },
  {
   "cell_type": "markdown",
   "metadata": {},
   "source": [
    "## 6 Examining the results\n",
    "Now we can load and plot the results. First, we can look at the Frobenius distance between the estimated and true segmentations across iterations:"
   ]
  },
  {
   "cell_type": "code",
   "execution_count": 14,
   "metadata": {},
   "outputs": [
    {
     "data": {
      "image/png": "[encoded data removed]",
      "text/plain": [
       "<Figure size 432x288 with 1 Axes>"
      ]
     },
     "metadata": {
      "needs_background": "light"
     },
     "output_type": "display_data"
    }
   ],
   "source": [
    "%matplotlib inline\n",
    "import matplotlib.pyplot as plt\n",
    "import pickle\n",
    "\n",
    "results = pickle.load(open(save_file + '_results.pickle', 'rb'))\n",
    "\n",
    "plt.plot(list(results['test_frobenius'].keys()), list(results['test_frobenius'].values()))\n",
    "plt.xlabel('Iteration')\n",
    "plt.ylabel('Average Frobenius distance')\n",
    "plt.title('LeNet-5 CKN on MNIST-seq')\n",
    "plt.show()"
   ]
  },
  {
   "cell_type": "markdown",
   "metadata": {},
   "source": [
    "We can also visualize the resultant features projected to 2D using t-SNE. Here we first create a grid. For each square in the grid, the code checks whether any image’s t-SNE representation lies in that square. If any such images exist, it chooses one at random and displays the original image in that square. The images are color-coded according to the ground-truth labels."
   ]
  },
  {
   "cell_type": "code",
   "execution_count": 15,
   "metadata": {},
   "outputs": [
    {
     "data": {
      "image/png": "[encoded data removed]",
      "text/plain": [
       "<Figure size 720x720 with 1 Axes>"
      ]
     },
     "metadata": {},
     "output_type": "display_data"
    }
   ],
   "source": [
    "import matplotlib\n",
    "import numpy as np\n",
    "import torch\n",
    "\n",
    "sys.path.append('../src/opt')\n",
    "\n",
    "import opt_utils\n",
    "import tsne_visualization\n",
    "\n",
    "matplotlib.rcParams['figure.figsize'] = (10, 10)\n",
    "\n",
    "# Load the trained model\n",
    "model = opt_structures.Model()\n",
    "model.load(save_file + '_model_10.pickle')\n",
    "\n",
    "# Compute the features and labels for 4096 observations\n",
    "torch.cuda.empty_cache()\n",
    "x_unlab_all = []\n",
    "features_all = []\n",
    "y_unlab_all = []\n",
    "for i in range(20):\n",
    "    x_unlab, _, _, y_unlab_truth, _, _ = next(iter(train_unlabeled_loader))\n",
    "    x_unlab_all.append(x_unlab[0])\n",
    "    features = opt_utils.compute_features(x_unlab, model)\n",
    "    features_all.append(features[0])\n",
    "    y_unlab_all.append(y_unlab_truth[0])\n",
    "\n",
    "x_unlab = torch.cat(x_unlab_all)\n",
    "x_unlab = ((x_unlab*0.3081+0.1307)).unsqueeze(1)\n",
    "features = torch.cat(features_all)\n",
    "y_unlab_truth = torch.cat(y_unlab_all)\n",
    "\n",
    "# Compute the embeddings\n",
    "embeddings = tsne_visualization.compute_embedding(features, perplexity=30)\n",
    "embeddings = (embeddings - np.min(embeddings))\n",
    "embeddings /= np.max(embeddings)\n",
    "\n",
    "# Plot the embeddings\n",
    "tsne_visualization.display_color(embeddings, x_unlab, y_unlab_truth, save_file=None)"
   ]
  },
  {
   "cell_type": "code",
   "execution_count": null,
   "metadata": {},
   "outputs": [],
   "source": []
  }
 ],
 "metadata": {
  "kernelspec": {
   "display_name": "Python 3",
   "language": "python",
   "name": "python3"
  },
  "language_info": {
   "codemirror_mode": {
    "name": "ipython",
    "version": 3
   },
   "file_extension": ".py",
   "mimetype": "text/x-python",
   "name": "python",
   "nbconvert_exporter": "python",
   "pygments_lexer": "ipython3",
   "version": "3.7.6"
  }
 },
 "nbformat": 4,
 "nbformat_minor": 2
}
